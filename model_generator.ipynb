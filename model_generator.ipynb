{
 "cells": [
  {
   "cell_type": "markdown",
   "metadata": {},
   "source": [
    "Generates ranges of CNN models, saves as *h5* files. <br />\n",
    "Software License Agreement (MIT License) <br />\n",
    "Copyright (c) 2020, Amirhossein Pakdaman."
   ]
  },
  {
   "cell_type": "code",
   "execution_count": null,
   "metadata": {},
   "outputs": [],
   "source": [
    "import tensorflow as tf\n",
    "import keras\n",
    "import keras.layers as kl\n",
    "from keras import backend as K\n",
    "import numpy as np\n",
    "import os\n",
    "from matplotlib import pyplot as plt"
   ]
  },
  {
   "cell_type": "code",
   "execution_count": null,
   "metadata": {},
   "outputs": [],
   "source": [
    "def conv2d(blocks, sizes, inputs, outputs):\n",
    "    layers = [kl.Conv2D(sizes, (3, 3), input_shape = (inputs, inputs, 3),strides=(1, 1), padding='same', activation = 'relu'),\n",
    "              kl.MaxPooling2D(pool_size = (2, 2))]\n",
    "\n",
    "    for i in range(blocks-1):\n",
    "        layers.append( kl.Conv2D(sizes, (3, 3),strides=(1, 1), padding='same', activation = 'relu') )\n",
    "        layers.append( kl.MaxPooling2D(pool_size = (2, 2)) ) \n",
    "\n",
    "    layers.append( kl.Flatten() )\n",
    "    layers.append( kl.Dense(units = outputs, activation = 'softmax') )\n",
    "      \n",
    "    name = 'Conv2D_'+ str(blocks) +'_'+ str(sizes) +'_'+ str(inputs) +'_'+ str(outputs) +'_'\n",
    "    \n",
    "    return layers, name"
   ]
  },
  {
   "cell_type": "code",
   "execution_count": null,
   "metadata": {},
   "outputs": [],
   "source": [
    "def depthwiseconv2d(blocks, inputs, outputs):\n",
    "    layers = [kl.DepthwiseConv2D( (3, 3), input_shape = (inputs, inputs, 3),strides=(1, 1), padding='same', activation = 'relu'),\n",
    "              kl.MaxPooling2D(pool_size = (2, 2))]\n",
    "\n",
    "    for i in range(blocks-1):\n",
    "        layers.append( kl.DepthwiseConv2D( (3, 3),strides=(1, 1), padding='same', activation = 'relu') )\n",
    "        layers.append( kl.MaxPooling2D(pool_size = (2, 2)) ) \n",
    "\n",
    "    layers.append( kl.Flatten() )\n",
    "    layers.append( kl.Dense(units = outputs, activation = 'softmax') )\n",
    "    \n",
    "    name = 'DepthwiseConv2D_'+ str(blocks) +'_'+ 'x' +'_'+ str(inputs) +'_'+ str(outputs) +'_'    \n",
    "    \n",
    "    return layers, name"
   ]
  },
  {
   "cell_type": "code",
   "execution_count": null,
   "metadata": {},
   "outputs": [],
   "source": [
    "def fullyconnected(blocks, sizes, inputs, outputs):\n",
    "    inp = kl.Input(shape=(inputs,inputs))\n",
    "    a1 = kl.Flatten()(inp)\n",
    "    for i in range(blocks-1):\n",
    "        a1 = kl.Dense(units = sizes, activation = 'relu')(a1)\n",
    "    otp = kl.Dense(units = outputs, activation = 'softmax')(a1)   \n",
    "    \n",
    "    name = 'FullyConnected_'+ str(blocks) +'_'+ str(sizes) +'_'+ str(inputs) +'_'+ str(outputs) +'_'\n",
    "    \n",
    "    return inp, otp, name"
   ]
  },
  {
   "cell_type": "code",
   "execution_count": null,
   "metadata": {
    "scrolled": false
   },
   "outputs": [],
   "source": [
    "modelMaxSize = 3500000\n",
    "typeModel = 'Conv2D'\n",
    "\n",
    "blocksS = 2\n",
    "blocksE = 6\n",
    "blocksI = 1\n",
    "\n",
    "filtersS = 34\n",
    "filtersE = 42\n",
    "filtersI = 4\n",
    "\n",
    "imagesS = 16\n",
    "imagesE = 224\n",
    "imagesI = 52\n",
    "\n",
    "outputsS = 2\n",
    "outputsE = 10\n",
    "outputsI = 4\n",
    "\n",
    "cnt = 0\n",
    "for outputs in range(outputsS, outputsE+1, outputsI):\n",
    "    for images in range(imagesS, imagesE+1, imagesI):\n",
    "        for filters in range(filtersS, filtersE+1, filtersI):\n",
    "            for blocks in range(blocksS, blocksE+1, blocksI):\n",
    "                if (images / 2**blocks) >= 4:\n",
    "                        layers = []\n",
    "                        if typeModel == 'Conv2D':\n",
    "                            layers, name = conv2d(blocks, filters, images, outputs)\n",
    "                            net = keras.Sequential(layers)\n",
    "                        elif typeModel == 'DepthwiseConv2D':\n",
    "                            layers, name = depthwiseconv2d(blocks, images, outputs)\n",
    "                            net = keras.Sequential(layers)\n",
    "                        net.compile(loss='categorical_crossentropy', optimizer='sgd', metrics = ['accuracy'])\n",
    "                        nameFile = 'models/' + name + str(net.count_params()) + '.h5'\n",
    "                        net.save(nameFile)\n",
    "                        fileStat = os.stat(nameFile)\n",
    "                        print(nameFile, '-', fileStat.st_size/1000, '- saved')\n",
    "                        cnt += 1\n",
    "                        if fileStat.st_size > modelMaxSize:\n",
    "                            os.remove(nameFile)\n",
    "                            print(nameFile, '-', fileStat.st_size/1000, '- removed')\n",
    "                            cnt -= 1\n",
    "print(cnt)"
   ]
  },
  {
   "cell_type": "code",
   "execution_count": null,
   "metadata": {
    "scrolled": false
   },
   "outputs": [],
   "source": [
    "modelMaxSize = 3500000\n",
    "typeModel = 'DepthwiseConv2D' \n",
    "\n",
    "blocksS = 1\n",
    "blocksE = 5\n",
    "blocksI = 1\n",
    "\n",
    "imagesS = 64\n",
    "imagesE = 224\n",
    "imagesI = 32\n",
    "\n",
    "outputsS = 2\n",
    "outputsE = 82\n",
    "outputsI = 16\n",
    "\n",
    "cnt = 0\n",
    "for outputs in range(outputsS, outputsE+1, outputsI):\n",
    "    for images in range(imagesS, imagesE+1, imagesI):\n",
    "        for blocks in range(blocksS, blocksE+1, blocksI):\n",
    "            if (images / 2**blocks) >= 4:\n",
    "                    layers = []\n",
    "                    if typeModel == 'Conv2D':\n",
    "                        layers, name = conv2d(blocks, filters, images, outputs)\n",
    "                        net = keras.Sequential(layers)\n",
    "                    elif typeModel == 'DepthwiseConv2D':\n",
    "                        layers, name = depthwiseconv2d(blocks, images, outputs)\n",
    "                        net = keras.Sequential(layers)\n",
    "                    net.compile(loss='categorical_crossentropy', optimizer='sgd', metrics = ['accuracy'])\n",
    "                    nameFile = 'models/' + name + str(net.count_params()) + '.h5'\n",
    "                    net.save(nameFile)\n",
    "                    fileStat = os.stat(nameFile)\n",
    "                    print(nameFile, '-', fileStat.st_size/1000, '- saved')\n",
    "                    cnt += 1\n",
    "                    if fileStat.st_size > modelMaxSize:\n",
    "                        os.remove(nameFile)\n",
    "                        print(nameFile, '-', fileStat.st_size/1000, '- removed')\n",
    "                        cnt -= 1\n",
    "print(cnt)"
   ]
  },
  {
   "cell_type": "code",
   "execution_count": null,
   "metadata": {},
   "outputs": [],
   "source": [
    "blk = []\n",
    "flt = []\n",
    "img = []\n",
    "otp = []\n",
    "par = []\n",
    "siz = []\n",
    "\n",
    "for filename in os.listdir('models'):\n",
    "    data = filename.replace('.h5','').split('_')\n",
    "    blk.append(data[1])\n",
    "    flt.append(data[2])\n",
    "    img.append(data[3])\n",
    "    otp.append(data[4])\n",
    "    par.append(data[5])\n",
    "    fileStat = os.stat('models/' + filename)\n",
    "    siz.append(fileStat.st_size/1000)"
   ]
  },
  {
   "cell_type": "code",
   "execution_count": null,
   "metadata": {},
   "outputs": [],
   "source": [
    "siz.sort()\n",
    "plt.plot(siz)\n",
    "plt.show()"
   ]
  },
  {
   "cell_type": "code",
   "execution_count": null,
   "metadata": {},
   "outputs": [],
   "source": []
  }
 ],
 "metadata": {
  "kernelspec": {
   "display_name": "Python 3",
   "language": "python",
   "name": "python3"
  },
  "language_info": {
   "codemirror_mode": {
    "name": "ipython",
    "version": 3
   },
   "file_extension": ".py",
   "mimetype": "text/x-python",
   "name": "python",
   "nbconvert_exporter": "python",
   "pygments_lexer": "ipython3",
   "version": "3.5.2"
  }
 },
 "nbformat": 4,
 "nbformat_minor": 2
}
