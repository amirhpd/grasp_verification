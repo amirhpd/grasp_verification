{
 "cells": [
  {
   "cell_type": "markdown",
   "metadata": {},
   "source": [
    "Custom CNN architecture with DepthwiseConv2D layers <br />\n",
    "Generates a simple CNN model <br />\n",
    "Trains the model <br />\n",
    "Prints confusion matrix <br />\n",
    "Saves the trained model as *.h5* and *.tflite* files <br />\n",
    "Software License Agreement (MIT License) <br />\n",
    "Copyright (c) 2020, Amirhossein Pakdaman."
   ]
  },
  {
   "cell_type": "code",
   "execution_count": 1,
   "metadata": {},
   "outputs": [
    {
     "name": "stderr",
     "output_type": "stream",
     "text": [
      "Using TensorFlow backend.\n"
     ]
    }
   ],
   "source": [
    "import numpy as np\n",
    "import keras\n",
    "from keras.applications import imagenet_utils\n",
    "from sklearn.metrics import confusion_matrix\n",
    "import matplotlib.pyplot as plt\n",
    "import itertools\n",
    "import tensorflow as tf\n",
    "from keras.preprocessing.image import ImageDataGenerator\n",
    "import keras.layers as kl"
   ]
  },
  {
   "cell_type": "code",
   "execution_count": 2,
   "metadata": {},
   "outputs": [],
   "source": [
    "batchSize = 10"
   ]
  },
  {
   "cell_type": "code",
   "execution_count": 3,
   "metadata": {},
   "outputs": [
    {
     "name": "stdout",
     "output_type": "stream",
     "text": [
      "Found 3893 images belonging to 2 classes.\n",
      "Found 432 images belonging to 2 classes.\n"
     ]
    }
   ],
   "source": [
    "# datasets\n",
    "dataGen = ImageDataGenerator(validation_split=0.1, \n",
    "                             preprocessing_function=keras.applications.mobilenet.preprocess_input)\n",
    "\n",
    "trainBatch = dataGen.flow_from_directory(\n",
    "    '/home/amirhossein/Codes/Project/Dataset/Dataset_678/dataset_openclose_678', \n",
    "    target_size=(128,128), batch_size=batchSize, subset='training')\n",
    "\n",
    "validateBatch = dataGen.flow_from_directory(\n",
    "    '/home/amirhossein/Codes/Project/Dataset/Dataset_678/dataset_openclose_678', \n",
    "    target_size=(128,128), batch_size=batchSize, subset='validation', shuffle=False)"
   ]
  },
  {
   "cell_type": "code",
   "execution_count": 4,
   "metadata": {},
   "outputs": [],
   "source": [
    "def depthwiseconv2d(blocks, inputs, outputs):\n",
    "    layers = [kl.DepthwiseConv2D( (3, 3), input_shape = (inputs, inputs, 3),strides=(1, 1), padding='same', activation = 'relu'),\n",
    "              kl.MaxPooling2D(pool_size = (2, 2))]\n",
    "\n",
    "    for i in range(blocks-1):\n",
    "        layers.append( kl.DepthwiseConv2D( (3, 3),strides=(1, 1), padding='same', activation = 'relu') )\n",
    "        layers.append( kl.MaxPooling2D(pool_size = (2, 2)) ) \n",
    "\n",
    "    layers.append( kl.Flatten() )\n",
    "    layers.append( kl.Dense(units = outputs, activation = 'softmax') )\n",
    "    \n",
    "    name = 'DepthwiseConv2D_'+ str(blocks) +'_'+ 'x' +'_'+ str(inputs) +'_'+ str(outputs) +'_'    \n",
    "    \n",
    "    return layers, name"
   ]
  },
  {
   "cell_type": "code",
   "execution_count": 6,
   "metadata": {},
   "outputs": [],
   "source": [
    "# largest used blocks in experiment 1\n",
    "blocks = 5\n",
    "images = 128\n",
    "outputs = 2\n",
    "layers, name = depthwiseconv2d(blocks, images, outputs)\n",
    "model = keras.Sequential(layers)"
   ]
  },
  {
   "cell_type": "code",
   "execution_count": 7,
   "metadata": {},
   "outputs": [
    {
     "name": "stdout",
     "output_type": "stream",
     "text": [
      "_________________________________________________________________\n",
      "Layer (type)                 Output Shape              Param #   \n",
      "=================================================================\n",
      "depthwise_conv2d_6 (Depthwis (None, 128, 128, 3)       30        \n",
      "_________________________________________________________________\n",
      "max_pooling2d_6 (MaxPooling2 (None, 64, 64, 3)         0         \n",
      "_________________________________________________________________\n",
      "depthwise_conv2d_7 (Depthwis (None, 64, 64, 3)         30        \n",
      "_________________________________________________________________\n",
      "max_pooling2d_7 (MaxPooling2 (None, 32, 32, 3)         0         \n",
      "_________________________________________________________________\n",
      "depthwise_conv2d_8 (Depthwis (None, 32, 32, 3)         30        \n",
      "_________________________________________________________________\n",
      "max_pooling2d_8 (MaxPooling2 (None, 16, 16, 3)         0         \n",
      "_________________________________________________________________\n",
      "depthwise_conv2d_9 (Depthwis (None, 16, 16, 3)         30        \n",
      "_________________________________________________________________\n",
      "max_pooling2d_9 (MaxPooling2 (None, 8, 8, 3)           0         \n",
      "_________________________________________________________________\n",
      "depthwise_conv2d_10 (Depthwi (None, 8, 8, 3)           30        \n",
      "_________________________________________________________________\n",
      "max_pooling2d_10 (MaxPooling (None, 4, 4, 3)           0         \n",
      "_________________________________________________________________\n",
      "flatten_2 (Flatten)          (None, 48)                0         \n",
      "_________________________________________________________________\n",
      "dense_2 (Dense)              (None, 2)                 98        \n",
      "=================================================================\n",
      "Total params: 248\n",
      "Trainable params: 248\n",
      "Non-trainable params: 0\n",
      "_________________________________________________________________\n"
     ]
    }
   ],
   "source": [
    "model.summary()"
   ]
  },
  {
   "cell_type": "code",
   "execution_count": 8,
   "metadata": {
    "scrolled": false
   },
   "outputs": [
    {
     "name": "stderr",
     "output_type": "stream",
     "text": [
      "W1123 16:53:44.849075 140277659490048 deprecation_wrapper.py:119] From /home/amirhossein/.local/lib/python3.5/site-packages/keras/optimizers.py:790: The name tf.train.Optimizer is deprecated. Please use tf.compat.v1.train.Optimizer instead.\n",
      "\n",
      "W1123 16:53:44.867294 140277659490048 deprecation_wrapper.py:119] From /home/amirhossein/.local/lib/python3.5/site-packages/keras/backend/tensorflow_backend.py:3295: The name tf.log is deprecated. Please use tf.math.log instead.\n",
      "\n"
     ]
    }
   ],
   "source": [
    "model.compile(keras.optimizers.Adam(lr=0.001), loss='categorical_crossentropy', metrics=['accuracy'])"
   ]
  },
  {
   "cell_type": "code",
   "execution_count": 9,
   "metadata": {},
   "outputs": [
    {
     "name": "stderr",
     "output_type": "stream",
     "text": [
      "W1123 16:53:58.933752 140277659490048 deprecation.py:323] From /usr/local/lib/python3.5/dist-packages/tensorflow/python/ops/math_grad.py:1250: add_dispatch_support.<locals>.wrapper (from tensorflow.python.ops.array_ops) is deprecated and will be removed in a future version.\n",
      "Instructions for updating:\n",
      "Use tf.where in 2.0, which has the same broadcast rule as np.where\n",
      "W1123 16:53:59.108030 140277659490048 deprecation_wrapper.py:119] From /home/amirhossein/.local/lib/python3.5/site-packages/keras/backend/tensorflow_backend.py:986: The name tf.assign_add is deprecated. Please use tf.compat.v1.assign_add instead.\n",
      "\n"
     ]
    },
    {
     "name": "stdout",
     "output_type": "stream",
     "text": [
      "Epoch 1/8\n",
      "1000/1000 [==============================] - 95s 95ms/step - loss: 0.6165 - acc: 0.6346 - val_loss: 0.4157 - val_acc: 0.7750\n",
      "Epoch 2/8\n",
      "1000/1000 [==============================] - 100s 100ms/step - loss: 0.4911 - acc: 0.7528 - val_loss: 0.3639 - val_acc: 0.8500\n",
      "Epoch 3/8\n",
      "1000/1000 [==============================] - 100s 100ms/step - loss: 0.4615 - acc: 0.7791 - val_loss: 0.2482 - val_acc: 0.8500\n",
      "Epoch 4/8\n",
      "1000/1000 [==============================] - 101s 101ms/step - loss: 0.4422 - acc: 0.8017 - val_loss: 0.2862 - val_acc: 0.9250\n",
      "Epoch 5/8\n",
      "1000/1000 [==============================] - 101s 101ms/step - loss: 0.4245 - acc: 0.8161 - val_loss: 0.3561 - val_acc: 0.8250\n",
      "Epoch 6/8\n",
      "1000/1000 [==============================] - 102s 102ms/step - loss: 0.4091 - acc: 0.8291 - val_loss: 0.4607 - val_acc: 0.8000\n",
      "Epoch 7/8\n",
      "1000/1000 [==============================] - 101s 101ms/step - loss: 0.4049 - acc: 0.8339 - val_loss: 0.5284 - val_acc: 0.7500\n",
      "Epoch 8/8\n",
      "1000/1000 [==============================] - 99s 99ms/step - loss: 0.3972 - acc: 0.8389 - val_loss: 0.2164 - val_acc: 0.9500\n"
     ]
    },
    {
     "data": {
      "text/plain": [
       "<keras.callbacks.History at 0x7f94912b3c18>"
      ]
     },
     "execution_count": 9,
     "metadata": {},
     "output_type": "execute_result"
    }
   ],
   "source": [
    "model.fit_generator(trainBatch, steps_per_epoch=1000, validation_data=validateBatch, validation_steps=4, \n",
    "                    epochs=8)"
   ]
  },
  {
   "cell_type": "code",
   "execution_count": 4,
   "metadata": {
    "collapsed": true
   },
   "outputs": [
    {
     "name": "stderr",
     "output_type": "stream",
     "text": [
      "WARNING: Logging before flag parsing goes to stderr.\n",
      "W1227 10:01:30.640460 139911627118336 deprecation_wrapper.py:119] From /home/amirhossein/.local/lib/python3.5/site-packages/keras/backend/tensorflow_backend.py:517: The name tf.placeholder is deprecated. Please use tf.compat.v1.placeholder instead.\n",
      "\n",
      "W1227 10:01:30.682670 139911627118336 deprecation_wrapper.py:119] From /home/amirhossein/.local/lib/python3.5/site-packages/keras/backend/tensorflow_backend.py:4138: The name tf.random_uniform is deprecated. Please use tf.random.uniform instead.\n",
      "\n",
      "W1227 10:01:30.731804 139911627118336 deprecation_wrapper.py:119] From /home/amirhossein/.local/lib/python3.5/site-packages/keras/backend/tensorflow_backend.py:3976: The name tf.nn.max_pool is deprecated. Please use tf.nn.max_pool2d instead.\n",
      "\n",
      "W1227 10:01:30.987338 139911627118336 deprecation_wrapper.py:119] From /home/amirhossein/.local/lib/python3.5/site-packages/keras/backend/tensorflow_backend.py:174: The name tf.get_default_session is deprecated. Please use tf.compat.v1.get_default_session instead.\n",
      "\n",
      "W1227 10:01:30.989585 139911627118336 deprecation_wrapper.py:119] From /home/amirhossein/.local/lib/python3.5/site-packages/keras/backend/tensorflow_backend.py:181: The name tf.ConfigProto is deprecated. Please use tf.compat.v1.ConfigProto instead.\n",
      "\n",
      "W1227 10:01:30.991692 139911627118336 deprecation_wrapper.py:119] From /home/amirhossein/.local/lib/python3.5/site-packages/keras/backend/tensorflow_backend.py:186: The name tf.Session is deprecated. Please use tf.compat.v1.Session instead.\n",
      "\n",
      "W1227 10:01:31.240451 139911627118336 deprecation_wrapper.py:119] From /home/amirhossein/.local/lib/python3.5/site-packages/keras/optimizers.py:790: The name tf.train.Optimizer is deprecated. Please use tf.compat.v1.train.Optimizer instead.\n",
      "\n",
      "W1227 10:01:31.480266 139911627118336 deprecation.py:323] From /usr/local/lib/python3.5/dist-packages/tensorflow/python/ops/math_grad.py:1250: add_dispatch_support.<locals>.wrapper (from tensorflow.python.ops.array_ops) is deprecated and will be removed in a future version.\n",
      "Instructions for updating:\n",
      "Use tf.where in 2.0, which has the same broadcast rule as np.where\n"
     ]
    }
   ],
   "source": [
    "# to load existing model\n",
    "model = keras.models.load_model('depthwiseconv2d.h5')"
   ]
  },
  {
   "cell_type": "code",
   "execution_count": 5,
   "metadata": {},
   "outputs": [],
   "source": [
    "# plot confusion matrix\n",
    "def plot_confusion_matrix(cm, classes, normalize=False, title='confusion_matrix', cmap=plt.cm.Blues):\n",
    "    plt.imshow(cm, interpolation='nearest', cmap=cmap)\n",
    "    plt.title(title)\n",
    "    plt.colorbar()\n",
    "    tick_marks = np.arange(len(classes))\n",
    "    plt.xticks(tick_marks, classes, rotation=45)\n",
    "    plt.yticks(tick_marks, classes)\n",
    "    \n",
    "    if normalize:\n",
    "        cm = cm.astype('float') / cm.sum(axis=1)[:, np.newaxis]\n",
    "        print('Normalized confusion matrix')\n",
    "    else:\n",
    "        print('Confusion matrix, without normalization')\n",
    "    print(cm)\n",
    "    \n",
    "    thresh = cm.max()/2.\n",
    "    for i, j in itertools.product(range(cm.shape[0]), range(cm.shape[1])):\n",
    "        plt.text(j, i, cm[i,j], \n",
    "                horizontalalignment='center', \n",
    "                color='white' if cm[i,j] > thresh else 'black')\n",
    "    plt.tight_layout()\n",
    "    plt.ylabel('True label')\n",
    "    plt.xlabel('Predicted label')"
   ]
  },
  {
   "cell_type": "code",
   "execution_count": 6,
   "metadata": {},
   "outputs": [],
   "source": [
    "plt.rcParams.update({'font.size': 12, 'mathtext.fontset':'stix', 'font.family':'STIXGeneral'})\n",
    "# plt.rcParams.update(plt.rcParamsDefault)"
   ]
  },
  {
   "cell_type": "code",
   "execution_count": 7,
   "metadata": {},
   "outputs": [
    {
     "name": "stdout",
     "output_type": "stream",
     "text": [
      "Confusion matrix, without normalization\n",
      "[[185  28]\n",
      " [ 42 177]]\n"
     ]
    },
    {
     "data": {
      "image/png": "[encoded data removed]",
      "text/plain": [
       "<Figure size 432x288 with 2 Axes>"
      ]
     },
     "metadata": {
      "needs_background": "light"
     },
     "output_type": "display_data"
    }
   ],
   "source": [
    "valLabels = validateBatch.classes\n",
    "predictions = model.predict_generator(validateBatch, steps= len(valLabels)//batchSize+1)\n",
    "cm = confusion_matrix(valLabels, predictions.argmax(axis=1))\n",
    "cmPlotLabels = ['Grasped', 'Not Grasped']\n",
    "plot_confusion_matrix(cm, cmPlotLabels, title='Confusion Matrix')"
   ]
  },
  {
   "cell_type": "code",
   "execution_count": 12,
   "metadata": {
    "scrolled": true
   },
   "outputs": [
    {
     "name": "stderr",
     "output_type": "stream",
     "text": [
      "W1123 17:07:48.822619 140277659490048 deprecation.py:506] From /usr/local/lib/python3.5/dist-packages/tensorflow/python/ops/init_ops.py:1251: calling VarianceScaling.__init__ (from tensorflow.python.ops.init_ops) with dtype is deprecated and will be removed in a future version.\n",
      "Instructions for updating:\n",
      "Call initializer instance with the dtype argument instead of passing it to the constructor\n",
      "W1123 17:07:50.773918 140277659490048 deprecation.py:323] From /usr/local/lib/python3.5/dist-packages/tensorflow/lite/python/util.py:238: convert_variables_to_constants (from tensorflow.python.framework.graph_util_impl) is deprecated and will be removed in a future version.\n",
      "Instructions for updating:\n",
      "Use `tf.compat.v1.graph_util.convert_variables_to_constants`\n",
      "W1123 17:07:50.775815 140277659490048 deprecation.py:323] From /usr/local/lib/python3.5/dist-packages/tensorflow/python/framework/graph_util_impl.py:270: extract_sub_graph (from tensorflow.python.framework.graph_util_impl) is deprecated and will be removed in a future version.\n",
      "Instructions for updating:\n",
      "Use `tf.compat.v1.graph_util.extract_sub_graph`\n"
     ]
    },
    {
     "data": {
      "text/plain": [
       "4500"
      ]
     },
     "execution_count": 12,
     "metadata": {},
     "output_type": "execute_result"
    }
   ],
   "source": [
    "# save models\n",
    "model.save('depthwiseconv2d.h5')\n",
    "converter = tf.lite.TFLiteConverter.from_keras_model_file('depthwiseconv2d.h5')\n",
    "tflite_model = converter.convert()\n",
    "open(\"depthwiseconv2d.tflite\", \"wb\").write(tflite_model)"
   ]
  },
  {
   "cell_type": "code",
   "execution_count": null,
   "metadata": {},
   "outputs": [],
   "source": []
  },
  {
   "cell_type": "code",
   "execution_count": null,
   "metadata": {},
   "outputs": [],
   "source": []
  }
 ],
 "metadata": {
  "kernelspec": {
   "display_name": "Python 3",
   "language": "python",
   "name": "python3"
  },
  "language_info": {
   "codemirror_mode": {
    "name": "ipython",
    "version": 3
   },
   "file_extension": ".py",
   "mimetype": "text/x-python",
   "name": "python",
   "nbconvert_exporter": "python",
   "pygments_lexer": "ipython3",
   "version": "3.5.2"
  }
 },
 "nbformat": 4,
 "nbformat_minor": 2
}
